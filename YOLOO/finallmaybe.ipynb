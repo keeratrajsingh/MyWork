{
 "cells": [
  {
   "cell_type": "code",
   "execution_count": 36,
   "metadata": {},
   "outputs": [],
   "source": [
    "import cv2\n",
    "import numpy as np\n",
    "import pandas as pd\n",
    "import matplotlib.pyplot as plt\n",
    "import os\n",
    "from collections import OrderedDict"
   ]
  },
  {
   "cell_type": "code",
   "execution_count": 37,
   "metadata": {},
   "outputs": [],
   "source": [
    "yolo = cv2.dnn.readNet(\"yolov4.weights\", \"yolov4.cfg\") #using yolov4 config files & Weights\n",
    "classes = []\n",
    "tot={}\n",
    "csv_column='' #initializing columns name for csv\n",
    "# with open(\"D:/YOLOO/coco.names\",'r') as file:\n",
    "#     classes = [line.strip() for line in file.readlines()]\n",
    "#     for i in classes:\n",
    "#         csv_column=csv_column+','+i \n",
    "#         tot[i]=0\n",
    "#     csv_column=csv_column+','+'car'\n",
    "classes = [\"person\", \"bicycle\", \"car\", \"motorbike\", \"aeroplane\", \"bus\", \"train\", \"truck\", \"boat\", \"traffic light\", \"fire hydrant\", \"stop sign\", \"parking meter\"]\n",
    "for i in classes:\n",
    "    csv_column=csv_column+','+i \n",
    "    tot[i]=0\n",
    "# print(csv_column)\n",
    "# df = pd.DataFrame(columns=classes)\n",
    "# df.to_csv('data.csv')\n",
    "#writing column names to csv\n",
    "# bill=open('data.csv','w')\n",
    "# bill.write(csv_column)\n",
    "# bill.close()"
   ]
  },
  {
   "cell_type": "code",
   "execution_count": 38,
   "metadata": {},
   "outputs": [],
   "source": [
    "layer_names = yolo.getLayerNames()\n",
    "output_layers = [layer_names[i - 1] for i in yolo.getUnconnectedOutLayers()]\n",
    "colorRed   = (255, 0, 0)\n",
    "colorGreen = (0, 255, 0)"
   ]
  },
  {
   "cell_type": "code",
   "execution_count": 26,
   "metadata": {},
   "outputs": [],
   "source": [
    "# path=\"D:/YOLOO/vehicles/Cars Dataset/train\""
   ]
  },
  {
   "cell_type": "code",
   "execution_count": 27,
   "metadata": {},
   "outputs": [],
   "source": [
    "# folders = []\n",
    "\n",
    "# for root, dirnames, filenames in os.walk(path):\n",
    "#     for j in dirnames:\n",
    "#         folders.append(j)\n",
    "\n",
    "# len(folders)"
   ]
  },
  {
   "cell_type": "code",
   "execution_count": 28,
   "metadata": {},
   "outputs": [],
   "source": [
    "# files = {}\n",
    "\n",
    "# for i in folders:\n",
    "#     files[i] = os.listdir(\"D:/YOLOO/vehicles/Cars Dataset/train/\" + i)\n",
    "\n",
    "# dict1 = OrderedDict(sorted(files.items()))\n",
    "# dict1.keys()"
   ]
  },
  {
   "cell_type": "code",
   "execution_count": 44,
   "metadata": {},
   "outputs": [],
   "source": [
    "import sys\n",
    "import os\n",
    "path=\"D:/YOLOO/speed-control-camera-urban-sunset-260nw-532387621.webp\"    #  <--- change path here\n",
    "# filenames = next(os.walk(path))[2] #give the path of the image\n",
    "# wz=0\n",
    "\n",
    "# for f in filenames:\n",
    "    \n",
    "        \n",
    "total=0            #to count total objects\n",
    "img = cv2.imread(path)\n",
    "height, width, channels = img.shape\n",
    "# cv2.imshow('car', img)\n",
    "# cv2.waitKey(0)\n",
    "key={}\n",
    "# with open(\"coco.names\",\"r\") as file:\n",
    "#     classes = [line.strip() for line in file.readlines()]\n",
    "#     for i in classes:\n",
    "#         key[i]=0       #initialize each count with zero\n",
    "classes = [\"person\", \"bicycle\", \"car\", \"motorbike\", \"aeroplane\", \"bus\", \"train\", \"truck\", \"boat\", \"traffic light\", \"fire hydrant\", \"stop sign\", \"parking meter\"]\n",
    "for i in classes:\n",
    "    key[i] = 0\n",
    "blob = cv2.dnn.blobFromImage(img, 1 / 255.0, (416, 416), swapRB=True, crop=False)\n",
    "yolo.setInput(blob)\n",
    "outputs = yolo.forward(output_layers)\n",
    "class_ids = []\n",
    "confidences = []\n",
    "boxes = []\n",
    "for output in outputs:\n",
    "    for detection in output:\n",
    "        scores = detection[5:]\n",
    "        class_id = np.argmax(scores)\n",
    "        confidence = scores[class_id]\n",
    "        if (confidence > 0.75):\n",
    "            center_x = int(detection[0] * width)\n",
    "            center_y = int(detection[1] * height)\n",
    "            w = int(detection[2] * width)\n",
    "            h = int(detection[3] * height)\n",
    "            x = int(center_x - w/2)\n",
    "            y = int(center_y - h/2)\n",
    "            boxes.append([x, y, w, h])\n",
    "            confidences.append(float(confidence))\n",
    "            class_ids.append(class_id)\n",
    "indices = cv2.dnn.NMSBoxes(boxes, confidences, 0.5, 0.4)\n",
    "colors = np.random.uniform(0, 255, size=(len(classes), 3))\n",
    "\n",
    "for i in range(len(boxes)):\n",
    "    if i in indices:\n",
    "        x, y, w, h = boxes[i]\n",
    "        try:\n",
    "            #print(\"The entry is\")\n",
    "            # print(i)\n",
    "            # print(class_ids)\n",
    "            # print(classes)\n",
    "            label =str(classes[class_ids[i]])\n",
    "        except:\n",
    "            print(\"Oops!\", sys.exc_info()[0], \"occurred.\")\n",
    "            break\n",
    "        start = (x,y)\n",
    "        end = (x+w,y+h)\n",
    "        \n",
    "        if label == \"car\":\n",
    "            cv2.rectangle(img, start, end, (0,255,0), 1)\n",
    "            cv2.putText(img, label, (x,y - 1), cv2.FONT_HERSHEY_PLAIN, 0.5, colorRed)\n",
    "            cv2.imshow(\"output\", img)\n",
    "            cv2.waitKey(0)\n",
    "        \n",
    "        \n",
    "        #print(label)\n",
    "#             for i in classes:\n",
    "#                 if label==i:\n",
    "#                     #print(label,i)\n",
    "#                     key[label]=key[label]+1\n",
    "#                     tot[label]=tot[label]+1\n",
    "#                     total=total+1\n",
    "\n",
    "#     print('\\n filename : '+f)    \n",
    "#     csv_row=f   #filename\n",
    "#     for i in classes:\n",
    "#         csv_row=csv_row+','+str(key[i])        #writing value of object counts in the rows\n",
    "        \n",
    "\n",
    "#         if key[i]>0:         #shows the object counts\n",
    "#             print(i+' : '+str(key[i]))\n",
    "#     csv_row=csv_row+','+str(total)\n",
    "#     print(\"total objects : \"+str(total))\n",
    "#     bill=open('data.csv','a+')\n",
    "#     bill.write(\"\\n\"+csv_row)\n",
    "#     bill.close()\n",
    "\n",
    "# csv_tot=\"total\"\n",
    "# for i in classes:\n",
    "#         csv_tot=csv_tot+','+str(tot[i])\n",
    "# bill=open('data.csv','a+')\n",
    "# bill.write(\"\\n\"+csv_tot)\n",
    "# bill.close() "
   ]
  },
  {
   "cell_type": "code",
   "execution_count": null,
   "metadata": {},
   "outputs": [],
   "source": [
    "\n"
   ]
  },
  {
   "cell_type": "code",
   "execution_count": 30,
   "metadata": {},
   "outputs": [
    {
     "ename": "SyntaxError",
     "evalue": "invalid syntax (525519296.py, line 1)",
     "output_type": "error",
     "traceback": [
      "\u001b[1;36m  Cell \u001b[1;32mIn [30], line 1\u001b[1;36m\u001b[0m\n\u001b[1;33m    |\u001b[0m\n\u001b[1;37m    ^\u001b[0m\n\u001b[1;31mSyntaxError\u001b[0m\u001b[1;31m:\u001b[0m invalid syntax\n"
     ]
    }
   ],
   "source": [
    "|"
   ]
  }
 ],
 "metadata": {
  "kernelspec": {
   "display_name": "Python 3",
   "language": "python",
   "name": "python3"
  },
  "language_info": {
   "codemirror_mode": {
    "name": "ipython",
    "version": 3
   },
   "file_extension": ".py",
   "mimetype": "text/x-python",
   "name": "python",
   "nbconvert_exporter": "python",
   "pygments_lexer": "ipython3",
   "version": "3.10.0"
  },
  "orig_nbformat": 4
 },
 "nbformat": 4,
 "nbformat_minor": 2
}
